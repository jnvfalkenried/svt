{
 "cells": [
  {
   "cell_type": "markdown",
   "metadata": {},
   "source": [
    "# Third party APIs\n",
    "\n",
    "In this Jupyter Notebook, we explore the use of third-party APIs for accessing TikTok data. Due to restrictions with the official TikTok API—where users must either be verified researchers or have an existing app—developers often seek alternative solutions. While third-party APIs can provide valuable insights and functionalities, they come with the trade-off of potential costs. In this analysis, we will evaluate the benefits and drawbacks of using third-party APIs, considering both their functionality and pricing models."
   ]
  },
  {
   "cell_type": "markdown",
   "metadata": {},
   "source": [
    "## Unoffical TikTok API Wrapper\n",
    "\n",
    "This is an unofficial api wrapper for TikTok.com in python. With this api you are able to call most trending and fetch specific user information as well as much more. This api is designed to retrieve data TikTok. It can not be used post or upload content to TikTok on the behalf of a user. It has no support any user-authenticated routes, if you can't access it while being logged out on their website you can't access it here. The TikTokAPI package will always be free and open-source [link](https://github.com/davidteather/TikTok-Api)"
   ]
  },
  {
   "cell_type": "code",
   "execution_count": null,
   "metadata": {},
   "outputs": [],
   "source": [
    "# Installation only run the first time\n",
    "!pip install TikTokApi\n",
    "!pip install playwright==1.37.0\n",
    "!playwright install"
   ]
  },
  {
   "cell_type": "code",
   "execution_count": 7,
   "metadata": {},
   "outputs": [
    {
     "name": "stdout",
     "output_type": "stream",
     "text": [
      "None\n",
      "TikTokApi.video(id='7404544537340677408')\n",
      "<coroutine object Video.info at 0x7ff5fad11800>\n",
      "TikTokApi.video(id='7417435400840449313')\n",
      "<coroutine object Video.info at 0x7ff5fad11800>\n",
      "TikTokApi.video(id='7405545543662931232')\n",
      "<coroutine object Video.info at 0x7ff5fad11800>\n",
      "TikTokApi.video(id='7406825255865470240')\n",
      "<coroutine object Video.info at 0x7ff5fad11800>\n",
      "TikTokApi.video(id='7417449226029911329')\n",
      "<coroutine object Video.info at 0x7ff5fad11800>\n",
      "TikTokApi.video(id='7414542249616280865')\n",
      "<coroutine object Video.info at 0x7ff5fad11800>\n",
      "TikTokApi.video(id='7410228154121407777')\n",
      "<coroutine object Video.info at 0x7ff5fad11800>\n",
      "TikTokApi.video(id='7416016506183552289')\n",
      "<coroutine object Video.info at 0x7ff5fad11800>\n",
      "TikTokApi.video(id='7415697291014655239')\n",
      "<coroutine object Video.info at 0x7ff5fad10e00>\n",
      "TikTokApi.video(id='7408607426909441312')\n",
      "<coroutine object Video.info at 0x7ff5fad10e00>\n",
      "TikTokApi.video(id='7401603736658873633')\n",
      "<coroutine object Video.info at 0x7ff5fad11800>\n",
      "TikTokApi.video(id='7414414644875496709')\n",
      "<coroutine object Video.info at 0x7ff5fad11800>\n",
      "TikTokApi.video(id='7391924055651208480')\n",
      "<coroutine object Video.info at 0x7ff5fad11800>\n",
      "TikTokApi.video(id='7412577903692533025')\n",
      "<coroutine object Video.info at 0x7ff5fad11800>\n",
      "TikTokApi.video(id='7393204512032328992')\n",
      "<coroutine object Video.info at 0x7ff5fad11800>\n",
      "TikTokApi.video(id='7407553275978992929')\n",
      "<coroutine object Video.info at 0x7ff5fad11800>\n",
      "TikTokApi.video(id='7398217514292874529')\n",
      "<coroutine object Video.info at 0x7ff5fad11800>\n",
      "TikTokApi.video(id='7409668411413908768')\n",
      "<coroutine object Video.info at 0x7ff5fad11800>\n",
      "TikTokApi.video(id='7416882873732566305')\n",
      "<coroutine object Video.info at 0x7ff5fad11800>\n",
      "TikTokApi.video(id='7412810285548850465')\n",
      "<coroutine object Video.info at 0x7ff5fad11800>\n",
      "TikTokApi.video(id='7405930831820115232')\n",
      "<coroutine object Video.info at 0x7ff5fad11800>\n",
      "TikTokApi.video(id='7415933567877827870')\n",
      "<coroutine object Video.info at 0x7ff5fad11800>\n",
      "TikTokApi.video(id='7392273650696621344')\n",
      "<coroutine object Video.info at 0x7ff5fad11800>\n",
      "TikTokApi.video(id='7398993716590955809')\n",
      "<coroutine object Video.info at 0x7ff5fad11800>\n",
      "TikTokApi.video(id='7414109881776590113')\n",
      "<coroutine object Video.info at 0x7ff5fad11800>\n",
      "TikTokApi.video(id='7386338890480684320')\n",
      "<coroutine object Video.info at 0x7ff5fad11800>\n",
      "TikTokApi.video(id='7405605030419631391')\n",
      "<coroutine object Video.info at 0x7ff5fad11800>\n",
      "TikTokApi.video(id='7413397091818540321')\n",
      "<coroutine object Video.info at 0x7ff5fad11800>\n"
     ]
    },
    {
     "name": "stderr",
     "output_type": "stream",
     "text": [
      "/tmp/ipykernel_105564/69525084.py:13: RuntimeWarning: coroutine 'Video.info' was never awaited\n",
      "  print(video.info())\n",
      "RuntimeWarning: Enable tracemalloc to get the object allocation traceback\n"
     ]
    },
    {
     "name": "stdout",
     "output_type": "stream",
     "text": [
      "TikTokApi.video(id='7413527761773432096')\n",
      "<coroutine object Video.info at 0x7ff5f8fca980>\n",
      "TikTokApi.video(id='7394995859605261600')\n",
      "<coroutine object Video.info at 0x7ff5f8fca980>\n",
      "TikTokApi.video(id='7392978847861443870')\n",
      "<coroutine object Video.info at 0x7ff5f8fca980>\n",
      "TikTokApi.video(id='7407602075791609119')\n",
      "<coroutine object Video.info at 0x7ff5f8fca980>\n",
      "TikTokApi.video(id='7413722175078731041')\n",
      "<coroutine object Video.info at 0x7ff5f8fca980>\n",
      "TikTokApi.video(id='7414834600729480481')\n",
      "<coroutine object Video.info at 0x7ff5f8fca980>\n",
      "TikTokApi.video(id='7410763178184903968')\n",
      "<coroutine object Video.info at 0x7ff5f8fca980>\n",
      "TikTokApi.video(id='7413788180073237792')\n",
      "<coroutine object Video.info at 0x7ff5f8fca980>\n",
      "TikTokApi.video(id='7416833204360989984')\n",
      "<coroutine object Video.info at 0x7ff5f8fcaac0>\n",
      "TikTokApi.video(id='7410478394447580449')\n",
      "<coroutine object Video.info at 0x7ff5f8fcaac0>\n",
      "TikTokApi.video(id='7415958855122799878')\n",
      "<coroutine object Video.info at 0x7ff5f8fca980>\n",
      "TikTokApi.video(id='7405710327817538858')\n",
      "<coroutine object Video.info at 0x7ff5f8fca980>\n",
      "TikTokApi.video(id='7397666462149905672')\n",
      "<coroutine object Video.info at 0x7ff5f8fca980>\n",
      "TikTokApi.video(id='7415521915923647750')\n",
      "<coroutine object Video.info at 0x7ff5f8fca980>\n",
      "TikTokApi.video(id='7417180833070533893')\n",
      "<coroutine object Video.info at 0x7ff5f8fca980>\n",
      "TikTokApi.video(id='7410880367273544993')\n",
      "<coroutine object Video.info at 0x7ff5f8fca980>\n",
      "TikTokApi.video(id='7405945571241921824')\n",
      "<coroutine object Video.info at 0x7ff5f8fca980>\n",
      "TikTokApi.video(id='7396274221598379296')\n",
      "<coroutine object Video.info at 0x7ff5f8fca980>\n",
      "TikTokApi.video(id='7416243335398001952')\n",
      "<coroutine object Video.info at 0x7ff5f8fca980>\n",
      "TikTokApi.video(id='7416052012174855431')\n",
      "<coroutine object Video.info at 0x7ff5f8fca980>\n",
      "TikTokApi.video(id='7408999230028680454')\n",
      "<coroutine object Video.info at 0x7ff5f8fca980>\n",
      "TikTokApi.video(id='7417426454323023136')\n",
      "<coroutine object Video.info at 0x7ff5f8fca980>\n",
      "TikTokApi.video(id='7403842126208879890')\n",
      "<coroutine object Video.info at 0x7ff5f8fca980>\n",
      "TikTokApi.video(id='7402960823024422177')\n",
      "<coroutine object Video.info at 0x7ff5f8fca980>\n",
      "TikTokApi.video(id='7402695474412571937')\n",
      "<coroutine object Video.info at 0x7ff5f8fca980>\n",
      "TikTokApi.video(id='7414853397767130400')\n",
      "<coroutine object Video.info at 0x7ff5f8fca980>\n",
      "TikTokApi.video(id='7407251828263488775')\n",
      "<coroutine object Video.info at 0x7ff5f8fca980>\n",
      "TikTokApi.video(id='7391923133269183776')\n",
      "<coroutine object Video.info at 0x7ff5f8fca980>\n",
      "TikTokApi.video(id='7400070689564216609')\n",
      "<coroutine object Video.info at 0x7ff5f8fca980>\n",
      "TikTokApi.video(id='7416039477128236320')\n",
      "<coroutine object Video.info at 0x7ff5f8fca980>\n"
     ]
    }
   ],
   "source": [
    "from TikTokApi import TikTokApi\n",
    "import os\n",
    "\n",
    "ms_token = os.environ.get(\"ms_token\", None) # get your own ms_token from your cookies on tiktok.com\n",
    "print(ms_token)\n",
    "\n",
    "\n",
    "async def trending_videos():\n",
    "    async with TikTokApi() as api:\n",
    "        await api.create_sessions(ms_tokens=[ms_token], num_sessions=1, sleep_after=3)\n",
    "        async for video in api.trending.videos(count=30):\n",
    "            print(video)\n",
    "            print(video.as_dict)\n",
    "\n",
    "await trending_videos()"
   ]
  },
  {
   "cell_type": "code",
   "execution_count": null,
   "metadata": {},
   "outputs": [],
   "source": []
  }
 ],
 "metadata": {
  "kernelspec": {
   "display_name": "base",
   "language": "python",
   "name": "python3"
  },
  "language_info": {
   "codemirror_mode": {
    "name": "ipython",
    "version": 3
   },
   "file_extension": ".py",
   "mimetype": "text/x-python",
   "name": "python",
   "nbconvert_exporter": "python",
   "pygments_lexer": "ipython3",
   "version": "3.11.5"
  }
 },
 "nbformat": 4,
 "nbformat_minor": 2
}
