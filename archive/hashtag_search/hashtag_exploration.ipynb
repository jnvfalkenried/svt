{
 "cells": [
  {
   "cell_type": "code",
   "execution_count": 2,
   "metadata": {},
   "outputs": [],
   "source": [
    "import os\n",
    "from dotenv import load_dotenv\n",
    "load_dotenv()\n",
    "PROJECT_PATH = os.getenv(\"PROJECT_PATH\")\n",
    "import sys\n",
    "sys.path.append(PROJECT_PATH)"
   ]
  },
  {
   "cell_type": "code",
   "execution_count": 3,
   "metadata": {},
   "outputs": [
    {
     "name": "stdout",
     "output_type": "stream",
     "text": [
      "D:\\\\UU\\\\Sem3\\\\Project\\\\svt\\\\src\n"
     ]
    }
   ],
   "source": [
    "print(PROJECT_PATH)"
   ]
  },
  {
   "cell_type": "code",
   "execution_count": 4,
   "metadata": {},
   "outputs": [],
   "source": [
    "from postgresql.config.settings import DATABASE_URL\n",
    "from postgresql.config.db import session\n",
    "from postgresql.database_models import Authors, Challenges, Music, Posts, PostsChallenges\n",
    "import pandas as pd\n",
    "import asyncio\n",
    "from sqlalchemy.future import select"
   ]
  },
  {
   "cell_type": "code",
   "execution_count": 5,
   "metadata": {},
   "outputs": [],
   "source": [
    "async def fetch_posts_challenges():\n",
    "    async with session() as s:\n",
    "        stmt = select(Posts.id, Posts.description, Challenges.id, Challenges.title, Challenges.hashtag_count).join(\n",
    "                PostsChallenges, Posts.id == PostsChallenges.post_id).join(\n",
    "                Challenges, Challenges.id == PostsChallenges.challenge_id)\n",
    "        \n",
    "        result = await s.execute(stmt)\n",
    "        rows = result.fetchall()\n",
    "        \n",
    "        data = [dict(row._mapping) for row in rows]\n",
    "        df = pd.DataFrame(data)\n",
    "        return df"
   ]
  },
  {
   "cell_type": "code",
   "execution_count": 6,
   "metadata": {},
   "outputs": [
    {
     "name": "stdout",
     "output_type": "stream",
     "text": [
      "                    id                                        description  \\\n",
      "0  7434126174831267105  A video of Kamala Harris taking a voter phone ...   \n",
      "1  7434126174831267105  A video of Kamala Harris taking a voter phone ...   \n",
      "2  7434126174831267105  A video of Kamala Harris taking a voter phone ...   \n",
      "3  7434126174831267105  A video of Kamala Harris taking a voter phone ...   \n",
      "4  7435029475638660394  Kamala Harris received more than $1.2 billion ...   \n",
      "5  7435029475638660394  Kamala Harris received more than $1.2 billion ...   \n",
      "6  7435029475638660394  Kamala Harris received more than $1.2 billion ...   \n",
      "7  7435029475638660394  Kamala Harris received more than $1.2 billion ...   \n",
      "8  7435029475638660394  Kamala Harris received more than $1.2 billion ...   \n",
      "9  7401849198678723845                     #Fypp #harris #tkcpage #viral    \n",
      "\n",
      "               id_1            title  hashtag_count  \n",
      "0            194782           harris              6  \n",
      "1          51333784     kamalaharris             12  \n",
      "2          15206346       uselection              1  \n",
      "3             61400        phonecall              1  \n",
      "4  1634355160419333     election2024              1  \n",
      "5          51333784     kamalaharris             12  \n",
      "6  1664284838677509  campaignfinance              1  \n",
      "7             58843         politics              2  \n",
      "8           5371061              wsj              1  \n",
      "9  1616966643636229             fypp              1  \n"
     ]
    }
   ],
   "source": [
    "df = await fetch_posts_challenges()\n",
    "print(df.head(10))"
   ]
  },
  {
   "cell_type": "code",
   "execution_count": 7,
   "metadata": {},
   "outputs": [],
   "source": [
    "df.rename(columns={\"id\": \"post_id\", \"id_1\": \"challenge_id\", \"title\": \"challenge_title\"}, inplace=True)\n",
    "df[[\"post_id\", \"challenge_id\"]] = df[[\"post_id\", \"challenge_id\"]].map(int)"
   ]
  },
  {
   "cell_type": "code",
   "execution_count": 8,
   "metadata": {},
   "outputs": [],
   "source": [
    "df[[\"challenge_title\"]] = df[[\"challenge_title\"]].map(str)"
   ]
  },
  {
   "cell_type": "code",
   "execution_count": 9,
   "metadata": {},
   "outputs": [
    {
     "name": "stdout",
     "output_type": "stream",
     "text": [
      "<class 'pandas.core.frame.DataFrame'>\n",
      "RangeIndex: 151 entries, 0 to 150\n",
      "Data columns (total 5 columns):\n",
      " #   Column           Non-Null Count  Dtype \n",
      "---  ------           --------------  ----- \n",
      " 0   post_id          151 non-null    int64 \n",
      " 1   description      151 non-null    object\n",
      " 2   challenge_id     151 non-null    int64 \n",
      " 3   challenge_title  151 non-null    object\n",
      " 4   hashtag_count    151 non-null    int64 \n",
      "dtypes: int64(3), object(2)\n",
      "memory usage: 6.0+ KB\n"
     ]
    }
   ],
   "source": [
    "df.info()"
   ]
  },
  {
   "cell_type": "code",
   "execution_count": null,
   "metadata": {},
   "outputs": [],
   "source": [
    "df.to_csv(\"posts_challenges.csv\", index=False)"
   ]
  },
  {
   "cell_type": "code",
   "execution_count": null,
   "metadata": {},
   "outputs": [],
   "source": [
    "async def search_by_hashtag(hashtag: str):\n",
    "    async with session() as s:\n",
    "        query = (\n",
    "            select(Posts.id, Posts.description)\n",
    "            .join(PostsChallenges, Posts.id == PostsChallenges.post_id)\n",
    "            .join(Challenges, PostsChallenges.challenge_id == Challenges.id)\n",
    "            .filter(Challenges.title == hashtag)\n",
    "        )\n",
    "        \n",
    "        result = await s.execute(query)\n",
    "        results = result.all() # .scalars()\n",
    "        return results"
   ]
  },
  {
   "cell_type": "code",
   "execution_count": 17,
   "metadata": {},
   "outputs": [
    {
     "name": "stdout",
     "output_type": "stream",
     "text": [
      "('7434126174831267105', \"A video of Kamala Harris taking a voter phone call went viral after some social media users said she ‘mistakenly’ showed her phone was open on the ca ... (41 characters truncated) ... ed' with some Trump supporters pointing out that you can in fact stay on a call while using the camera.  #harris #kamalaharris #uselection #phonecall\")\n",
      "('7401849198678723845', '#Fypp #harris #tkcpage #viral ')\n",
      "('7323729957165763846', 'astagfirullah harris😭👍 buka bajunya anyg😭 #harriscaine #vtuber #harris #vtuberindonesia #vtuberedit #nayach #AKAvirtual #sol4ce ')\n",
      "('7413384929469304096', 'Debata w USA. Harris do Trumpa: Oddałbyś Polskę Putinowi za przysługę #polityka #usa #harris #trump2024 #stanyzjednoczone #polska #usa #putin #rosja #ukraina #nato #europa')\n",
      "('7394160903677054239', 'Kamala Harris is the happiest lady in the world right now #KamalaHarris #Harris #PresidentHarris #Harris2024 #CallHarris2024 ')\n",
      "('7378766522669468933', 'gws tante raja 😘😚 #fyp #harris #raja #harrisraja ')\n"
     ]
    }
   ],
   "source": [
    "hashtag_name = \"harris\"\n",
    "search = await search_by_hashtag(hashtag=hashtag_name)\n",
    "for s in search:\n",
    "    print(s)"
   ]
  },
  {
   "cell_type": "code",
   "execution_count": 15,
   "metadata": {},
   "outputs": [
    {
     "name": "stdout",
     "output_type": "stream",
     "text": [
      "[['fypシ'], ['fypシ', 'harrystyles', 'foryoupage', 'foryou', 'harries', 'harryfan', 'hshot', 'harrystyleshot', 'meow'], ['kamalaharris', 'vp', 'pride', 'foryourpride', 'ally'], ['harriscaine', 'vtuber', 'harris', 'vtuberindonesia', 'vtuberedit', 'nayach', 'akavirtual', 'sol4ce'], ['kamalaharris', 'vicepresident', 'usa', 'usa_tiktok', 'eeuu', 'unitedstates', 'estadosunidos', 'foryou'], ['xyzbca', 'foryou', 'harry', 'initials', 'names', 'real', 'viral', 'love', 'crush', 'bf', 'harryname', 'foryoupage', 'fyp', 'xoxo', 'fypage', 'viralvideo', 'tiktok', 'haha', 'lolz'], ['fyp', 'harris', 'raja', 'harrisraja'], ['kamalaharris', 'harris', 'presidentharris', 'harris2024', 'callharris2024'], ['foryou', 'fyp', 'usa', 'us', 'celebrities', 'kids', 'children'], ['duet', 'kamalaharris', 'foryoupage', 'paratii', 'fyp', 'viral', 'tiktok', '❤️❤️'], ['republican', 'president', 'vicepresident', 'usa', 'politics', 'jdvance', 'vote2024', 'trump'], ['bitcoin', 'crypto', 'cryptocurrency', 'kamalaharris', 'simpsonvietnam', 'trump'], ['fypp', 'harris', 'tkcpage', 'viral'], ['donaldtrump', 'kamalaharris', '2024'], ['polityka', 'usa', 'harris', 'trump2024', 'stanyzjednoczone', 'polska', 'putin', 'rosja', 'ukraina', 'nato', 'europa'], ['kamalaharris', 'usa'], ['niallhoran', 'onedirection', 'betterthanwords', 'harrystyles', 'zaynmalik', 'louistomlinson', 'liampayne', '1dtiktok', '1direction', '1d', 'fy', 'fyp', 'viralvideos'], ['kamalaharris', 'barackobama', 'kamalaharrisedit', 'kamalaedit', 'harris2024', 'fyp', 'fypシ゚', 'xyzcba', 'atlantageorgia'], ['kamalaharris', 'harris2024', 'usa_tiktok', 'democrat', 'evolution', 'throughtheyears'], ['news', 'unitedstates', 'america', 'foryoupage', 'kamalaharris', 'trump2024'], ['harris', 'kamalaharris', 'uselection', 'phonecall'], ['election2024', 'kamalaharris', 'campaignfinance', 'politics', 'wsj']]\n"
     ]
    }
   ],
   "source": [
    "transactions = df.groupby(\"post_id\")[\"challenge_title\"].apply(list).to_list()\n",
    "print(transactions)"
   ]
  },
  {
   "cell_type": "code",
   "execution_count": 25,
   "metadata": {},
   "outputs": [
    {
     "name": "stdout",
     "output_type": "stream",
     "text": [
      "22\n"
     ]
    }
   ],
   "source": [
    "print(len(transactions))"
   ]
  },
  {
   "cell_type": "code",
   "execution_count": 16,
   "metadata": {},
   "outputs": [
    {
     "name": "stdout",
     "output_type": "stream",
     "text": [
      "      1d  1direction  1dtiktok   2024  akavirtual   ally  america  \\\n",
      "0  False       False     False  False       False  False    False   \n",
      "1  False       False     False  False       False  False    False   \n",
      "2  False       False     False  False       False   True    False   \n",
      "3  False       False     False  False        True  False    False   \n",
      "4  False       False     False  False       False  False    False   \n",
      "5  False       False     False  False       False  False    False   \n",
      "6  False       False     False  False       False  False    False   \n",
      "7  False       False     False  False       False  False    False   \n",
      "8  False       False     False  False       False  False    False   \n",
      "9  False       False     False  False       False  False    False   \n",
      "\n",
      "   atlantageorgia  barackobama  betterthanwords  ...     vp  vtuber  \\\n",
      "0           False        False            False  ...  False   False   \n",
      "1           False        False            False  ...  False   False   \n",
      "2           False        False            False  ...   True   False   \n",
      "3           False        False            False  ...  False    True   \n",
      "4           False        False            False  ...  False   False   \n",
      "5           False        False            False  ...  False   False   \n",
      "6           False        False            False  ...  False   False   \n",
      "7           False        False            False  ...  False   False   \n",
      "8           False        False            False  ...  False   False   \n",
      "9           False        False            False  ...  False   False   \n",
      "\n",
      "   vtuberedit  vtuberindonesia    wsj   xoxo  xyzbca  xyzcba  zaynmalik   ❤️❤️  \n",
      "0       False            False  False  False   False   False      False  False  \n",
      "1       False            False  False  False   False   False      False  False  \n",
      "2       False            False  False  False   False   False      False  False  \n",
      "3        True             True  False  False   False   False      False  False  \n",
      "4       False            False  False  False   False   False      False  False  \n",
      "5       False            False  False   True    True   False      False  False  \n",
      "6       False            False  False  False   False   False      False  False  \n",
      "7       False            False  False  False   False   False      False  False  \n",
      "8       False            False  False  False   False   False      False  False  \n",
      "9       False            False  False  False   False   False      False   True  \n",
      "\n",
      "[10 rows x 107 columns]\n"
     ]
    }
   ],
   "source": [
    "from mlxtend.preprocessing import TransactionEncoder\n",
    "te = TransactionEncoder()\n",
    "te_ary = te.fit(transactions).transform(transactions)\n",
    "txn_df = pd.DataFrame(te_ary, columns=te.columns_)\n",
    "print(txn_df.head(10))"
   ]
  },
  {
   "cell_type": "code",
   "execution_count": null,
   "metadata": {},
   "outputs": [
    {
     "name": "stdout",
     "output_type": "stream",
     "text": [
      "(22, 107)\n",
      "22\n"
     ]
    }
   ],
   "source": [
    "print(txn_df.shape)"
   ]
  },
  {
   "cell_type": "code",
   "execution_count": 22,
   "metadata": {},
   "outputs": [
    {
     "name": "stdout",
     "output_type": "stream",
     "text": [
      "     support                          itemsets\n",
      "0   0.181818                          (foryou)\n",
      "1   0.181818                      (foryoupage)\n",
      "2   0.272727                             (fyp)\n",
      "3   0.090909                            (fypシ)\n",
      "4   0.272727                          (harris)\n",
      "5   0.136364                      (harris2024)\n",
      "6   0.090909                     (harrystyles)\n",
      "7   0.545455                    (kamalaharris)\n",
      "8   0.090909                        (politics)\n",
      "9   0.090909                          (tiktok)\n",
      "10  0.090909                           (trump)\n",
      "11  0.090909                       (trump2024)\n",
      "12  0.090909                    (unitedstates)\n",
      "13  0.227273                             (usa)\n",
      "14  0.090909                      (usa_tiktok)\n",
      "15  0.090909                   (vicepresident)\n",
      "16  0.136364                           (viral)\n",
      "17  0.090909              (foryou, foryoupage)\n",
      "18  0.090909                     (foryou, fyp)\n",
      "19  0.090909                     (foryou, usa)\n",
      "20  0.090909                 (fyp, foryoupage)\n",
      "21  0.090909        (kamalaharris, foryoupage)\n",
      "22  0.090909              (tiktok, foryoupage)\n",
      "23  0.090909               (viral, foryoupage)\n",
      "24  0.090909               (kamalaharris, fyp)\n",
      "25  0.090909                     (tiktok, fyp)\n",
      "26  0.090909                      (fyp, viral)\n",
      "27  0.090909            (kamalaharris, harris)\n",
      "28  0.136364        (kamalaharris, harris2024)\n",
      "29  0.090909      (kamalaharris, unitedstates)\n",
      "30  0.090909               (kamalaharris, usa)\n",
      "31  0.090909        (kamalaharris, usa_tiktok)\n",
      "32  0.090909                   (tiktok, viral)\n",
      "33  0.090909              (vicepresident, usa)\n",
      "34  0.090909         (tiktok, fyp, foryoupage)\n",
      "35  0.090909          (fyp, viral, foryoupage)\n",
      "36  0.090909       (tiktok, viral, foryoupage)\n",
      "37  0.090909              (tiktok, viral, fyp)\n",
      "38  0.090909  (tiktok, viral, fyp, foryoupage)\n"
     ]
    }
   ],
   "source": [
    "from mlxtend.frequent_patterns import apriori, association_rules\n",
    "frequent_itemsets = apriori(txn_df, min_support=0.05, use_colnames=True)\n",
    "print(frequent_itemsets)"
   ]
  },
  {
   "cell_type": "code",
   "execution_count": 29,
   "metadata": {},
   "outputs": [
    {
     "name": "stdout",
     "output_type": "stream",
     "text": [
      "                    antecedents                consequents  \\\n",
      "0                      (foryou)               (foryoupage)   \n",
      "1                  (foryoupage)                   (foryou)   \n",
      "2                      (foryou)                      (fyp)   \n",
      "3                      (foryou)                      (usa)   \n",
      "4                  (foryoupage)                      (fyp)   \n",
      "5                  (foryoupage)             (kamalaharris)   \n",
      "6                      (tiktok)               (foryoupage)   \n",
      "7                  (foryoupage)                   (tiktok)   \n",
      "8                       (viral)               (foryoupage)   \n",
      "9                  (foryoupage)                    (viral)   \n",
      "10                     (tiktok)                      (fyp)   \n",
      "11                      (viral)                      (fyp)   \n",
      "12                 (harris2024)             (kamalaharris)   \n",
      "13               (unitedstates)             (kamalaharris)   \n",
      "14                 (usa_tiktok)             (kamalaharris)   \n",
      "15                     (tiktok)                    (viral)   \n",
      "16                      (viral)                   (tiktok)   \n",
      "17              (vicepresident)                      (usa)   \n",
      "18                (tiktok, fyp)               (foryoupage)   \n",
      "19         (tiktok, foryoupage)                      (fyp)   \n",
      "20            (fyp, foryoupage)                   (tiktok)   \n",
      "21                     (tiktok)          (fyp, foryoupage)   \n",
      "22                 (foryoupage)              (tiktok, fyp)   \n",
      "23                 (viral, fyp)               (foryoupage)   \n",
      "24            (fyp, foryoupage)                    (viral)   \n",
      "25          (viral, foryoupage)                      (fyp)   \n",
      "26                      (viral)          (fyp, foryoupage)   \n",
      "27                 (foryoupage)               (viral, fyp)   \n",
      "28              (tiktok, viral)               (foryoupage)   \n",
      "29         (tiktok, foryoupage)                    (viral)   \n",
      "30          (viral, foryoupage)                   (tiktok)   \n",
      "31                     (tiktok)        (viral, foryoupage)   \n",
      "32                      (viral)       (tiktok, foryoupage)   \n",
      "33                 (foryoupage)            (tiktok, viral)   \n",
      "34              (tiktok, viral)                      (fyp)   \n",
      "35                (tiktok, fyp)                    (viral)   \n",
      "36                 (fyp, viral)                   (tiktok)   \n",
      "37                     (tiktok)               (fyp, viral)   \n",
      "38                      (viral)              (tiktok, fyp)   \n",
      "39         (tiktok, viral, fyp)               (foryoupage)   \n",
      "40  (tiktok, viral, foryoupage)                      (fyp)   \n",
      "41    (tiktok, fyp, foryoupage)                    (viral)   \n",
      "42     (fyp, viral, foryoupage)                   (tiktok)   \n",
      "43              (tiktok, viral)          (fyp, foryoupage)   \n",
      "44                (tiktok, fyp)        (viral, foryoupage)   \n",
      "45         (tiktok, foryoupage)               (fyp, viral)   \n",
      "46                 (fyp, viral)       (tiktok, foryoupage)   \n",
      "47          (viral, foryoupage)              (tiktok, fyp)   \n",
      "48            (fyp, foryoupage)            (tiktok, viral)   \n",
      "49                     (tiktok)   (fyp, viral, foryoupage)   \n",
      "50                      (viral)  (tiktok, fyp, foryoupage)   \n",
      "51                 (foryoupage)       (tiktok, viral, fyp)   \n",
      "\n",
      "    antecedent support  consequent support   support  confidence       lift  \\\n",
      "0             0.181818            0.181818  0.090909    0.500000   2.750000   \n",
      "1             0.181818            0.181818  0.090909    0.500000   2.750000   \n",
      "2             0.181818            0.272727  0.090909    0.500000   1.833333   \n",
      "3             0.181818            0.227273  0.090909    0.500000   2.200000   \n",
      "4             0.181818            0.272727  0.090909    0.500000   1.833333   \n",
      "5             0.181818            0.545455  0.090909    0.500000   0.916667   \n",
      "6             0.090909            0.181818  0.090909    1.000000   5.500000   \n",
      "7             0.181818            0.090909  0.090909    0.500000   5.500000   \n",
      "8             0.136364            0.181818  0.090909    0.666667   3.666667   \n",
      "9             0.181818            0.136364  0.090909    0.500000   3.666667   \n",
      "10            0.090909            0.272727  0.090909    1.000000   3.666667   \n",
      "11            0.136364            0.272727  0.090909    0.666667   2.444444   \n",
      "12            0.136364            0.545455  0.136364    1.000000   1.833333   \n",
      "13            0.090909            0.545455  0.090909    1.000000   1.833333   \n",
      "14            0.090909            0.545455  0.090909    1.000000   1.833333   \n",
      "15            0.090909            0.136364  0.090909    1.000000   7.333333   \n",
      "16            0.136364            0.090909  0.090909    0.666667   7.333333   \n",
      "17            0.090909            0.227273  0.090909    1.000000   4.400000   \n",
      "18            0.090909            0.181818  0.090909    1.000000   5.500000   \n",
      "19            0.090909            0.272727  0.090909    1.000000   3.666667   \n",
      "20            0.090909            0.090909  0.090909    1.000000  11.000000   \n",
      "21            0.090909            0.090909  0.090909    1.000000  11.000000   \n",
      "22            0.181818            0.090909  0.090909    0.500000   5.500000   \n",
      "23            0.090909            0.181818  0.090909    1.000000   5.500000   \n",
      "24            0.090909            0.136364  0.090909    1.000000   7.333333   \n",
      "25            0.090909            0.272727  0.090909    1.000000   3.666667   \n",
      "26            0.136364            0.090909  0.090909    0.666667   7.333333   \n",
      "27            0.181818            0.090909  0.090909    0.500000   5.500000   \n",
      "28            0.090909            0.181818  0.090909    1.000000   5.500000   \n",
      "29            0.090909            0.136364  0.090909    1.000000   7.333333   \n",
      "30            0.090909            0.090909  0.090909    1.000000  11.000000   \n",
      "31            0.090909            0.090909  0.090909    1.000000  11.000000   \n",
      "32            0.136364            0.090909  0.090909    0.666667   7.333333   \n",
      "33            0.181818            0.090909  0.090909    0.500000   5.500000   \n",
      "34            0.090909            0.272727  0.090909    1.000000   3.666667   \n",
      "35            0.090909            0.136364  0.090909    1.000000   7.333333   \n",
      "36            0.090909            0.090909  0.090909    1.000000  11.000000   \n",
      "37            0.090909            0.090909  0.090909    1.000000  11.000000   \n",
      "38            0.136364            0.090909  0.090909    0.666667   7.333333   \n",
      "39            0.090909            0.181818  0.090909    1.000000   5.500000   \n",
      "40            0.090909            0.272727  0.090909    1.000000   3.666667   \n",
      "41            0.090909            0.136364  0.090909    1.000000   7.333333   \n",
      "42            0.090909            0.090909  0.090909    1.000000  11.000000   \n",
      "43            0.090909            0.090909  0.090909    1.000000  11.000000   \n",
      "44            0.090909            0.090909  0.090909    1.000000  11.000000   \n",
      "45            0.090909            0.090909  0.090909    1.000000  11.000000   \n",
      "46            0.090909            0.090909  0.090909    1.000000  11.000000   \n",
      "47            0.090909            0.090909  0.090909    1.000000  11.000000   \n",
      "48            0.090909            0.090909  0.090909    1.000000  11.000000   \n",
      "49            0.090909            0.090909  0.090909    1.000000  11.000000   \n",
      "50            0.136364            0.090909  0.090909    0.666667   7.333333   \n",
      "51            0.181818            0.090909  0.090909    0.500000   5.500000   \n",
      "\n",
      "    representativity  leverage  conviction  zhangs_metric   jaccard  \\\n",
      "0                1.0  0.057851    1.636364       0.777778  0.333333   \n",
      "1                1.0  0.057851    1.636364       0.777778  0.333333   \n",
      "2                1.0  0.041322    1.454545       0.555556  0.250000   \n",
      "3                1.0  0.049587    1.545455       0.666667  0.285714   \n",
      "4                1.0  0.041322    1.454545       0.555556  0.250000   \n",
      "5                1.0 -0.008264    0.909091      -0.100000  0.142857   \n",
      "6                1.0  0.074380         inf       0.900000  0.500000   \n",
      "7                1.0  0.074380    1.818182       1.000000  0.500000   \n",
      "8                1.0  0.066116    2.454545       0.842105  0.400000   \n",
      "9                1.0  0.066116    1.727273       0.888889  0.400000   \n",
      "10               1.0  0.066116         inf       0.800000  0.333333   \n",
      "11               1.0  0.053719    2.181818       0.684211  0.285714   \n",
      "12               1.0  0.061983         inf       0.526316  0.250000   \n",
      "13               1.0  0.041322         inf       0.500000  0.166667   \n",
      "14               1.0  0.041322         inf       0.500000  0.166667   \n",
      "15               1.0  0.078512         inf       0.950000  0.666667   \n",
      "16               1.0  0.078512    2.727273       1.000000  0.666667   \n",
      "17               1.0  0.070248         inf       0.850000  0.400000   \n",
      "18               1.0  0.074380         inf       0.900000  0.500000   \n",
      "19               1.0  0.066116         inf       0.800000  0.333333   \n",
      "20               1.0  0.082645         inf       1.000000  1.000000   \n",
      "21               1.0  0.082645         inf       1.000000  1.000000   \n",
      "22               1.0  0.074380    1.818182       1.000000  0.500000   \n",
      "23               1.0  0.074380         inf       0.900000  0.500000   \n",
      "24               1.0  0.078512         inf       0.950000  0.666667   \n",
      "25               1.0  0.066116         inf       0.800000  0.333333   \n",
      "26               1.0  0.078512    2.727273       1.000000  0.666667   \n",
      "27               1.0  0.074380    1.818182       1.000000  0.500000   \n",
      "28               1.0  0.074380         inf       0.900000  0.500000   \n",
      "29               1.0  0.078512         inf       0.950000  0.666667   \n",
      "30               1.0  0.082645         inf       1.000000  1.000000   \n",
      "31               1.0  0.082645         inf       1.000000  1.000000   \n",
      "32               1.0  0.078512    2.727273       1.000000  0.666667   \n",
      "33               1.0  0.074380    1.818182       1.000000  0.500000   \n",
      "34               1.0  0.066116         inf       0.800000  0.333333   \n",
      "35               1.0  0.078512         inf       0.950000  0.666667   \n",
      "36               1.0  0.082645         inf       1.000000  1.000000   \n",
      "37               1.0  0.082645         inf       1.000000  1.000000   \n",
      "38               1.0  0.078512    2.727273       1.000000  0.666667   \n",
      "39               1.0  0.074380         inf       0.900000  0.500000   \n",
      "40               1.0  0.066116         inf       0.800000  0.333333   \n",
      "41               1.0  0.078512         inf       0.950000  0.666667   \n",
      "42               1.0  0.082645         inf       1.000000  1.000000   \n",
      "43               1.0  0.082645         inf       1.000000  1.000000   \n",
      "44               1.0  0.082645         inf       1.000000  1.000000   \n",
      "45               1.0  0.082645         inf       1.000000  1.000000   \n",
      "46               1.0  0.082645         inf       1.000000  1.000000   \n",
      "47               1.0  0.082645         inf       1.000000  1.000000   \n",
      "48               1.0  0.082645         inf       1.000000  1.000000   \n",
      "49               1.0  0.082645         inf       1.000000  1.000000   \n",
      "50               1.0  0.078512    2.727273       1.000000  0.666667   \n",
      "51               1.0  0.074380    1.818182       1.000000  0.500000   \n",
      "\n",
      "    certainty  kulczynski  \n",
      "0    0.388889    0.500000  \n",
      "1    0.388889    0.500000  \n",
      "2    0.312500    0.416667  \n",
      "3    0.352941    0.450000  \n",
      "4    0.312500    0.416667  \n",
      "5   -0.100000    0.333333  \n",
      "6    1.000000    0.750000  \n",
      "7    0.450000    0.750000  \n",
      "8    0.592593    0.583333  \n",
      "9    0.421053    0.583333  \n",
      "10   1.000000    0.666667  \n",
      "11   0.541667    0.500000  \n",
      "12   1.000000    0.625000  \n",
      "13   1.000000    0.583333  \n",
      "14   1.000000    0.583333  \n",
      "15   1.000000    0.833333  \n",
      "16   0.633333    0.833333  \n",
      "17   1.000000    0.700000  \n",
      "18   1.000000    0.750000  \n",
      "19   1.000000    0.666667  \n",
      "20   1.000000    1.000000  \n",
      "21   1.000000    1.000000  \n",
      "22   0.450000    0.750000  \n",
      "23   1.000000    0.750000  \n",
      "24   1.000000    0.833333  \n",
      "25   1.000000    0.666667  \n",
      "26   0.633333    0.833333  \n",
      "27   0.450000    0.750000  \n",
      "28   1.000000    0.750000  \n",
      "29   1.000000    0.833333  \n",
      "30   1.000000    1.000000  \n",
      "31   1.000000    1.000000  \n",
      "32   0.633333    0.833333  \n",
      "33   0.450000    0.750000  \n",
      "34   1.000000    0.666667  \n",
      "35   1.000000    0.833333  \n",
      "36   1.000000    1.000000  \n",
      "37   1.000000    1.000000  \n",
      "38   0.633333    0.833333  \n",
      "39   1.000000    0.750000  \n",
      "40   1.000000    0.666667  \n",
      "41   1.000000    0.833333  \n",
      "42   1.000000    1.000000  \n",
      "43   1.000000    1.000000  \n",
      "44   1.000000    1.000000  \n",
      "45   1.000000    1.000000  \n",
      "46   1.000000    1.000000  \n",
      "47   1.000000    1.000000  \n",
      "48   1.000000    1.000000  \n",
      "49   1.000000    1.000000  \n",
      "50   0.633333    0.833333  \n",
      "51   0.450000    0.750000  \n"
     ]
    }
   ],
   "source": [
    "rules = association_rules(frequent_itemsets, len(txn_df), metric=\"confidence\", min_threshold=0.5)\n",
    "print(rules)"
   ]
  },
  {
   "cell_type": "code",
   "execution_count": 30,
   "metadata": {},
   "outputs": [],
   "source": [
    "rules.to_csv(\"association_rules.csv\", index=False)"
   ]
  },
  {
   "cell_type": "code",
   "execution_count": null,
   "metadata": {},
   "outputs": [],
   "source": []
  }
 ],
 "metadata": {
  "kernelspec": {
   "display_name": "svt_env",
   "language": "python",
   "name": "python3"
  },
  "language_info": {
   "codemirror_mode": {
    "name": "ipython",
    "version": 3
   },
   "file_extension": ".py",
   "mimetype": "text/x-python",
   "name": "python",
   "nbconvert_exporter": "python",
   "pygments_lexer": "ipython3",
   "version": "3.12.7"
  }
 },
 "nbformat": 4,
 "nbformat_minor": 2
}
