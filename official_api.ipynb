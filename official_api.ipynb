{
 "cells": [
  {
   "cell_type": "markdown",
   "metadata": {},
   "source": [
    "# Official TikTok API\n",
    "\n",
    "The official TikTok API offers different packages:\n",
    "\n",
    "- Green Screen Kit\n",
    "- Display API\n",
    "- Research Tools (Only for approved researchers)\n",
    "- Commercial Content API (Only for approved researchers)\n",
    "- Data Portability API\n",
    "\n",
    "For our usecase the packages Display API and Research Tools are the most interesting. The approval process can take up to 4 weeks. More information can be found [here](https://developers.tiktok.com/)."
   ]
  },
  {
   "cell_type": "markdown",
   "metadata": {},
   "source": [
    "## Display API\n",
    "\n",
    "What can be seen:\n",
    "\n",
    "/v2/user/info/: Get a TikTok user's basic profile information. This includes the user's open_id, avatar_url, display_name, profile_deep_link, and bio_description.\n",
    "\n",
    "/v2/video/list/: Get the metadata of a TikTok user's recently uploaded videos.\n",
    "\n",
    "/v2/video/query/: Get the metadata of TikTok a user's videos filtered by video Id.\n",
    "\n",
    "Getting started documentation can be found [here](https://developers.tiktok.com/doc/display-api-get-started/).\n",
    "\n",
    "Steps we need to take, to use the TikTok Display API:\n",
    "\n",
    "1. Create developer account [here](https://developers.tiktok.com/signup)\n",
    "2. (Create an organization [here](https://developers.tiktok.com/doc/working-with-organizations))\n",
    "3. Register app (Followed [this](https://developers.tiktok.com/doc/getting-started-create-an-app)) --> Problem here: Need to hand in Terms and Conditions link of my app\n",
    "4. Get login credentials (Followed [this](https://developers.tiktok.com/doc/login-kit-web/))"
   ]
  },
  {
   "cell_type": "markdown",
   "metadata": {},
   "source": [
    "## Research Tools\n",
    "\n",
    "What can be seen:\n",
    "\n",
    "- Videos: Videos configured to \"Everyone\" for who can watch, and for such videos, the total number of likes, total number of comments, voice-to-text, subtitles, the time of creation and video length.\n",
    "- Comments: comment text, and total number of likes, replies, and the time the comment was posted.\n",
    "- Accounts: bios, profile pictures, liked videos, reposted videos, pinned videos, the total number of followers and the number of people who are followed by the account. The response also returns information on the followers and people followed by the account.\n",
    "\n",
    "[Link](https://developers.tiktok.com/doc/about-research-api?enter_method=left_navigation)\n",
    "\n",
    "Problem: Only for research. Application process can take up to 4 weeks."
   ]
  },
  {
   "cell_type": "markdown",
   "metadata": {},
   "source": [
    "# TikTok API for Businesses\n",
    "\n",
    "There exists an API for businesses but it seems to be more for marketing campaigns and advertisments ([link](https://business-api.tiktok.com/portal))."
   ]
  }
 ],
 "metadata": {
  "language_info": {
   "name": "python"
  }
 },
 "nbformat": 4,
 "nbformat_minor": 2
}
